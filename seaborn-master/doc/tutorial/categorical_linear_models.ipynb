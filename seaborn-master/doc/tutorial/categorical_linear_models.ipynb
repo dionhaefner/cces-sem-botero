{
 "metadata": {
  "name": "",
  "signature": "sha256:596ee95726b8eb1cbd51a81254cb68deebbbc70d1a0347b41327a6a846b8d11d"
 },
 "nbformat": 3,
 "nbformat_minor": 0,
 "worksheets": [
  {
   "cells": [
    {
     "cell_type": "raw",
     "metadata": {},
     "source": [
      ".. _linear_categorical::\n",
      "\n",
      ".. currentmodule:: seaborn"
     ]
    },
    {
     "cell_type": "heading",
     "level": 1,
     "metadata": {},
     "source": [
      "Linear models with categorical data"
     ]
    },
    {
     "cell_type": "code",
     "collapsed": false,
     "input": [
      "%matplotlib inline"
     ],
     "language": "python",
     "metadata": {},
     "outputs": [],
     "prompt_number": null
    },
    {
     "cell_type": "code",
     "collapsed": false,
     "input": [
      "import numpy as np\n",
      "import pandas as pd\n",
      "import seaborn as sns\n",
      "import matplotlib as mpl\n",
      "import matplotlib.pyplot as plt"
     ],
     "language": "python",
     "metadata": {},
     "outputs": [],
     "prompt_number": null
    },
    {
     "cell_type": "code",
     "collapsed": false,
     "input": [
      "sns.set(style=\"whitegrid\")\n",
      "np.random.seed(sum(map(ord, \"linear_categorical\")))"
     ],
     "language": "python",
     "metadata": {},
     "outputs": [],
     "prompt_number": null
    },
    {
     "cell_type": "code",
     "collapsed": false,
     "input": [
      "titanic = sns.load_dataset(\"titanic\")\n",
      "exercise = sns.load_dataset(\"exercise\")\n",
      "attend = sns.load_dataset(\"attention\")"
     ],
     "language": "python",
     "metadata": {},
     "outputs": [],
     "prompt_number": null
    },
    {
     "cell_type": "raw",
     "metadata": {},
     "source": [
      ".. _factorplot:\n",
      "\n",
      "Plotting categorical data with :func:`factorplot`\n",
      "-------------------------------------------------\n",
      "\n",
      "As with the quantitative functions :func:`lmplot` and :func:`regplot`, you can draw categorical plots with functions that operate at two different levels. In most cases, you'll want to use the :func:`factorplot` function. Like :func:`lmplot`, it plots onto a :class:`FacetGrid` and can visualize :ref:`a lot <facet_grid>` of data quickly. However, in some cases you may want a bit more control over the figure you're making, in which case you can use the lower-level functions :func:`pointplot` and :func:`barplot`. The :func:`factorplot` function is using these behind the scenes, and you can control which gets used with the ``kind`` parameter.\n",
      "\n",
      "The API for the :func:`factorplot` function will be familiar by now. It draws data from a tidy DataFrame, and the positional arguments specify the names of variables that will be placed on the x and y axes of the plot. :func:`factorplot` also takes a third positional argument. It is named ``hue``, as it plays a similar role as the ``hue`` variable in :func:`lmplot`, plotting subsets of the data for easy direct comparison. However, in some cases the ``hue`` variable will also affect the location on the x axis where data is plotted. Because these functions are intended for use with *categorical* data, the x axis is not quantitatively represented. However, there will be cases where the x axis has a natural ordering.\n",
      "\n",
      "The two main kinds of categorical plots show the same data, but with a different emphasis. ``point`` plots are better for comparing between conditions:"
     ]
    },
    {
     "cell_type": "code",
     "collapsed": false,
     "input": [
      "sns.factorplot(\"kind\", \"pulse\", \"diet\", exercise, kind=\"point\");"
     ],
     "language": "python",
     "metadata": {},
     "outputs": [],
     "prompt_number": null
    },
    {
     "cell_type": "raw",
     "metadata": {},
     "source": [
      "Whereas ``bar`` plots are better for understanding overall magnitude and how far it is from 0:"
     ]
    },
    {
     "cell_type": "code",
     "collapsed": false,
     "input": [
      "sns.factorplot(\"kind\", \"pulse\", \"diet\", exercise, kind=\"bar\");"
     ],
     "language": "python",
     "metadata": {},
     "outputs": [],
     "prompt_number": null
    },
    {
     "cell_type": "raw",
     "metadata": {},
     "source": [
      "You can also plot a :func:`factorplot` with a boxplot representation (using ``kind=\"box\"``). While the above plots focus on the central tendency of the data (with a measure of the error associated with that value), the boxplot should be used when you care about the *distribution* of the data in different categories."
     ]
    },
    {
     "cell_type": "code",
     "collapsed": false,
     "input": [
      "sns.factorplot(\"kind\", \"pulse\", \"diet\", exercise, kind=\"box\");"
     ],
     "language": "python",
     "metadata": {},
     "outputs": [],
     "prompt_number": null
    },
    {
     "cell_type": "raw",
     "metadata": {},
     "source": [
      "When the ``kind`` is not specified, :func:`factorplot` uses a few heuristic rules to choose the appropriate kind of plot to draw. These are pretty rough, and may change over time, so it's better to specify."
     ]
    },
    {
     "cell_type": "code",
     "collapsed": false,
     "input": [
      "sns.factorplot(\"kind\", \"pulse\", \"diet\", exercise);"
     ],
     "language": "python",
     "metadata": {},
     "outputs": [],
     "prompt_number": null
    },
    {
     "cell_type": "raw",
     "metadata": {},
     "source": [
      "Naturally, you can specify the palette to render the ``hue`` variable in. Any seaborn palette definition will work, and you can also pass a dictionary mapping values of the ``hue`` variable to colors."
     ]
    },
    {
     "cell_type": "code",
     "collapsed": false,
     "input": [
      "sns.factorplot(\"class\", \"fare\", \"sex\", data=titanic, palette=\"Pastel1\");"
     ],
     "language": "python",
     "metadata": {},
     "outputs": [],
     "prompt_number": null
    },
    {
     "cell_type": "raw",
     "metadata": {},
     "source": [
      "Options for grouping the categories\n",
      "^^^^^^^^^^^^^^^^^^^^^^^^^^^^^^^^^^^\n",
      "\n",
      "It's not necessary to use a ``hue`` variable:"
     ]
    },
    {
     "cell_type": "code",
     "collapsed": false,
     "input": [
      "sns.factorplot(\"class\", \"fare\", data=titanic);"
     ],
     "language": "python",
     "metadata": {},
     "outputs": [],
     "prompt_number": null
    },
    {
     "cell_type": "raw",
     "metadata": {},
     "source": [
      "And you can then use the palette to map the ``x`` variable:"
     ]
    },
    {
     "cell_type": "code",
     "collapsed": false,
     "input": [
      "sns.factorplot(\"class\", \"fare\", data=titanic, palette=\"Greens_d\");"
     ],
     "language": "python",
     "metadata": {},
     "outputs": [],
     "prompt_number": null
    },
    {
     "cell_type": "raw",
     "metadata": {},
     "source": [
      "In fact, you don't need to provide a ``y`` variable either. When ``y`` is missing, the height of the plot shows the *count* of observations in each category:"
     ]
    },
    {
     "cell_type": "code",
     "collapsed": false,
     "input": [
      "sns.factorplot(\"class\", data=titanic, palette=\"PuBuGn_d\");"
     ],
     "language": "python",
     "metadata": {},
     "outputs": [],
     "prompt_number": null
    },
    {
     "cell_type": "code",
     "collapsed": false,
     "input": [
      "sns.factorplot(\"class\", hue=\"sex\", data=titanic, palette=\"Pastel1\");"
     ],
     "language": "python",
     "metadata": {},
     "outputs": [],
     "prompt_number": null
    },
    {
     "cell_type": "raw",
     "metadata": {},
     "source": [
      "Estimators of central tendency and their error\n",
      "^^^^^^^^^^^^^^^^^^^^^^^^^^^^^^^^^^^^^^^^^^^^^^\n",
      "\n",
      "By default the height of the bars/points shows the mean and 95% confidence interval, but both can be changed."
     ]
    },
    {
     "cell_type": "code",
     "collapsed": false,
     "input": [
      "sns.factorplot(\"class\", \"fare\", data=titanic, palette=\"Greens_d\", estimator=np.median);"
     ],
     "language": "python",
     "metadata": {},
     "outputs": [],
     "prompt_number": null
    },
    {
     "cell_type": "raw",
     "metadata": {},
     "source": [
      "Remember, the 68% confidence interval shows the standard error of the estimator:"
     ]
    },
    {
     "cell_type": "code",
     "collapsed": false,
     "input": [
      "sns.factorplot(\"class\", \"fare\", data=titanic, kind=\"point\", ci=68);"
     ],
     "language": "python",
     "metadata": {},
     "outputs": [],
     "prompt_number": null
    },
    {
     "cell_type": "raw",
     "metadata": {},
     "source": [
      "Plotting on different facets\n",
      "^^^^^^^^^^^^^^^^^^^^^^^^^^^^\n",
      "\n",
      "Remember, :func:`factorplot` is using a :class:`FacetGrid`, so all of the :ref:`options <facet_grid>` for structuring the plot into different subsets are available:"
     ]
    },
    {
     "cell_type": "code",
     "collapsed": false,
     "input": [
      "sns.factorplot(\"class\", \"survived\", \"sex\", data=titanic, col=\"sex\", aspect=.5, palette=\"Set1\");"
     ],
     "language": "python",
     "metadata": {},
     "outputs": [],
     "prompt_number": null
    },
    {
     "cell_type": "code",
     "collapsed": false,
     "input": [
      "sns.factorplot(\"deck\", data=titanic, row=\"class\", x_order=list(\"ABCDEF\"),\n",
      "               margin_titles=True, aspect=3, size=2, palette=\"BuPu_d\");"
     ],
     "language": "python",
     "metadata": {},
     "outputs": [],
     "prompt_number": null
    },
    {
     "cell_type": "raw",
     "metadata": {},
     "source": [
      "Choices in visual presentation\n",
      "^^^^^^^^^^^^^^^^^^^^^^^^^^^^^^\n",
      "\n",
      "There are a few other choices for how the plot gets drawn when you use a ``point`` plot. Sometimes, the errorbars for different hue categories will overlap:"
     ]
    },
    {
     "cell_type": "code",
     "collapsed": false,
     "input": [
      "sns.factorplot(\"solutions\", \"score\", \"attention\", attend);"
     ],
     "language": "python",
     "metadata": {},
     "outputs": [],
     "prompt_number": null
    },
    {
     "cell_type": "raw",
     "metadata": {},
     "source": [
      "When this happens, you may want to \"dodge\" the different hue categories a bit so the extent of the overlap is more clear:"
     ]
    },
    {
     "cell_type": "code",
     "collapsed": false,
     "input": [
      "sns.factorplot(\"solutions\", \"score\", \"attention\", attend, dodge=.05);"
     ],
     "language": "python",
     "metadata": {},
     "outputs": [],
     "prompt_number": null
    },
    {
     "cell_type": "raw",
     "metadata": {},
     "source": [
      "It's also not strictly necessary to join the points for each of the different ``hue`` levels:"
     ]
    },
    {
     "cell_type": "code",
     "collapsed": false,
     "input": [
      "sns.factorplot(\"solutions\", \"score\", \"attention\", attend, join=False, dodge=.2);"
     ],
     "language": "python",
     "metadata": {},
     "outputs": [],
     "prompt_number": null
    },
    {
     "cell_type": "raw",
     "metadata": {},
     "source": [
      "The ``x`` and ``hue`` values are plotted in sorted order by default, but sometimes it makes more sense to provide a specific order:"
     ]
    },
    {
     "cell_type": "code",
     "collapsed": false,
     "input": [
      "sns.factorplot(\"time\", \"pulse\", \"kind\", exercise, col=\"diet\",\n",
      "               hue_order=[\"rest\", \"walking\", \"running\"],\n",
      "               palette=\"YlGnBu_d\", aspect=.75);"
     ],
     "language": "python",
     "metadata": {},
     "outputs": [],
     "prompt_number": null
    },
    {
     "cell_type": "raw",
     "metadata": {},
     "source": [
      "Although by default the ``hue`` variable is only mapped to different colors (by the ``palette`` argument), you can also use different markers and linestyles for each level of the ``hue`` variable:"
     ]
    },
    {
     "cell_type": "code",
     "collapsed": false,
     "input": [
      "sns.factorplot(\"solutions\", \"score\", \"attention\", attend,\n",
      "               markers=[\"o\", \"D\"], linestyles=[\"-\", \"--\"]);"
     ],
     "language": "python",
     "metadata": {},
     "outputs": [],
     "prompt_number": null
    },
    {
     "cell_type": "raw",
     "metadata": {},
     "source": [
      ".. _barplot::\n",
      ".. _pointplot::\n",
      "\n",
      "Plotting with :func:`pointplot` and :func:`barplot` \n",
      "---------------------------------------------------\n",
      "\n",
      "As noted above, :func:`factorplot` is a combination of a :class:`FacetGrid` and a lower-level plotting function. If you want to built up a more complicated figure with different kind of presentations in different subplots, you can use the :func:`pointplot` and :func:`barplot` functions directly. They take all of the same arguments as :func:`factorplot`, aside from those that control the faceting."
     ]
    },
    {
     "cell_type": "code",
     "collapsed": false,
     "input": [
      "f, (ax1, ax2) = plt.subplots(1, 2)\n",
      "sns.pointplot(\"time\", \"pulse\", \"kind\", data=exercise, ax=ax1)\n",
      "sns.barplot(\"kind\", \"pulse\", \"time\", data=exercise, ax=ax2);"
     ],
     "language": "python",
     "metadata": {},
     "outputs": [],
     "prompt_number": null
    },
    {
     "cell_type": "raw",
     "metadata": {},
     "source": [
      "Like :func:`regplot`, the lower-level categorical functions also accept their data directly in the form of a Series or array."
     ]
    },
    {
     "cell_type": "code",
     "collapsed": false,
     "input": [
      "survivors = titanic.query(\"alive == 'yes'\")\n",
      "gs = plt.GridSpec(3, 1)\n",
      "plt.subplot(gs[:2])\n",
      "ax1 = sns.pointplot(survivors[\"class\"], survivors[\"age\"], label=\"survivors\", color=\".3\")\n",
      "ax1.set(xticks=[], xlabel=\"\")\n",
      "plt.subplot(gs[-1])\n",
      "ax2 = sns.barplot(survivors[\"class\"], color=\".5\")\n",
      "ax1.set_xlim(ax2.get_xlim())\n",
      "sns.despine(left=True, bottom=True)"
     ],
     "language": "python",
     "metadata": {},
     "outputs": [],
     "prompt_number": null
    },
    {
     "cell_type": "code",
     "collapsed": false,
     "input": [],
     "language": "python",
     "metadata": {},
     "outputs": [],
     "prompt_number": null
    }
   ],
   "metadata": {}
  }
 ]
}