{
 "metadata": {
  "name": "",
  "signature": "sha256:4568f95942be4f0ef8e7e7eaa7ffa3da3fe9c7b1cd33afabddf58d3520d725a6"
 },
 "nbformat": 3,
 "nbformat_minor": 0,
 "worksheets": [
  {
   "cells": [
    {
     "cell_type": "raw",
     "metadata": {},
     "source": [
      ".. _dataset_exploration:\n",
      "\n",
      ".. currentmodule:: seaborn"
     ]
    },
    {
     "cell_type": "heading",
     "level": 1,
     "metadata": {},
     "source": [
      "Visual dataset exploration"
     ]
    },
    {
     "cell_type": "code",
     "collapsed": false,
     "input": [
      "%matplotlib inline"
     ],
     "language": "python",
     "metadata": {},
     "outputs": [],
     "prompt_number": null
    },
    {
     "cell_type": "code",
     "collapsed": false,
     "input": [
      "import numpy as np\n",
      "import pandas as pd\n",
      "import seaborn as sns\n",
      "import matplotlib.pyplot as plt"
     ],
     "language": "python",
     "metadata": {},
     "outputs": [],
     "prompt_number": null
    },
    {
     "cell_type": "code",
     "collapsed": false,
     "input": [
      "iris = sns.load_dataset(\"iris\")\n",
      "flights = sns.load_dataset(\"flights\")\n",
      "networks = sns.load_dataset(\"brain_networks\", index_col=0, header=[0, 1, 2])"
     ],
     "language": "python",
     "metadata": {},
     "outputs": [],
     "prompt_number": null
    },
    {
     "cell_type": "raw",
     "metadata": {},
     "source": [
      ".. _heatmap:\n",
      "\n",
      "Visualizing matrices with :func:`heatmap`\n",
      "-----------------------------------------\n",
      "\n",
      "Often the easiest thing to do to visualize a reasonably large table of data is to encode the value in each cell with a color and plot a heatmap. This can be accomplished with the :func:`heatmap` function. Note that unlike many other seaborn functions, :func:`heatmap` expects the input data to be a table of values with one variable in the rows and one variable in the columns. Your dataset may be in tidy format, as with the ``flights`` example."
     ]
    },
    {
     "cell_type": "code",
     "collapsed": false,
     "input": [
      "flights.head()"
     ],
     "language": "python",
     "metadata": {},
     "outputs": [],
     "prompt_number": null
    },
    {
     "cell_type": "raw",
     "metadata": {},
     "source": [
      "Fortunately, it's easy to pivot a dataframe out into rectangular format. Note that this sorts the index by default, so if your index has an ordering that doesn't correspond to its alphabetical order, you may need to reorder things after the pivot operation. It's also possible to collapse over a third variable (using an aggregation like a mean or sum) with the ``pivot_table`` function."
     ]
    },
    {
     "cell_type": "code",
     "collapsed": false,
     "input": [
      "flights_rect = flights.pivot(\"month\", \"year\", \"passengers\")\n",
      "flights_rect = flights_rect.ix[flights.month.iloc[:12]]"
     ],
     "language": "python",
     "metadata": {},
     "outputs": [],
     "prompt_number": null
    },
    {
     "cell_type": "code",
     "collapsed": false,
     "input": [
      "flights_rect.head()"
     ],
     "language": "python",
     "metadata": {},
     "outputs": [],
     "prompt_number": null
    },
    {
     "cell_type": "raw",
     "metadata": {},
     "source": [
      "Data in this format can be passed to :func:`heatmap` to produce an easily-interpretable visualization."
     ]
    },
    {
     "cell_type": "code",
     "collapsed": false,
     "input": [
      "sns.heatmap(flights_rect);"
     ],
     "language": "python",
     "metadata": {},
     "outputs": [],
     "prompt_number": null
    },
    {
     "cell_type": "raw",
     "metadata": {},
     "source": [
      "If you do particularly care about the precise numeric values, you can annotate each cell."
     ]
    },
    {
     "cell_type": "code",
     "collapsed": false,
     "input": [
      "sns.heatmap(flights_rect, annot=True, fmt=\"d\");"
     ],
     "language": "python",
     "metadata": {},
     "outputs": [],
     "prompt_number": null
    },
    {
     "cell_type": "raw",
     "metadata": {},
     "source": [
      "Because the color is an encoding of the data, it's very important to use an appropriate colormap. (See the :ref:`palette tutorial <palette_tutorial>` for more information about different kinds of color palettes and how to choose one that is appropriate for your data). :func:`heatmap` tries to choose good defaults for your data based off some heuristics about it. For example, if your dataset spans 0, it is assumed that a diverging colormap is more appropriate."
     ]
    },
    {
     "cell_type": "code",
     "collapsed": false,
     "input": [
      "network_corr = networks.iloc[:, :12].corr()\n",
      "sns.heatmap(network_corr);"
     ],
     "language": "python",
     "metadata": {},
     "outputs": [],
     "prompt_number": null
    },
    {
     "cell_type": "raw",
     "metadata": {},
     "source": [
      "Note that this might not always be the case! For example, you might be plotting temperature over time in several cities, for which 0 isn't really a meaningful midpoint value. A sequential colormap would be better in that case.\n",
      "\n",
      "When the data is inferred to be diverging, setting the anchor points preserves symmetry around the midpoint (the defaults depend on the extreme values or values near the midpoints if ``robust`` is ``True``)."
     ]
    },
    {
     "cell_type": "code",
     "collapsed": false,
     "input": [
      "sns.heatmap(network_corr, vmax=.8, square=True);"
     ],
     "language": "python",
     "metadata": {},
     "outputs": [],
     "prompt_number": null
    },
    {
     "cell_type": "raw",
     "metadata": {},
     "source": [
      "There are other uses for diverging colormaps where the midpoint is not 0. For example, you might want to be plotting change \n",
      "relative to a specific comparison value. To set the midpoint, pass a value to ``center``, which will imply that the colormap should be diverging."
     ]
    },
    {
     "cell_type": "code",
     "collapsed": false,
     "input": [
      "sns.heatmap(flights_rect, center=flights_rect.loc[\"January\", 1955]);"
     ],
     "language": "python",
     "metadata": {},
     "outputs": [],
     "prompt_number": null
    },
    {
     "cell_type": "raw",
     "metadata": {},
     "source": [
      ":func:`heatmap` is an Axes-level function, so you can use it in the context of a more complex figure. Plotting the colorbar is optional, and it can also be drawn in a specific existing Axes."
     ]
    },
    {
     "cell_type": "code",
     "collapsed": false,
     "input": [
      "f = plt.figure(figsize=(7, 9))\n",
      "gs = plt.GridSpec(15, 1)\n",
      "hist_ax = f.add_subplot(gs[:5])\n",
      "\n",
      "yearly_flights = flights_rect.sum(axis=0)\n",
      "hist_ax.bar(range(12), yearly_flights, 1, ec=\"w\", lw=2, color=\".3\")\n",
      "hist_ax.set(xticks=[], ylabel=\"flights\")\n",
      "\n",
      "map_ax = f.add_subplot(gs[5:-2])\n",
      "bar_ax = f.add_subplot(gs[-1])\n",
      "sns.heatmap(flights_rect, cmap=\"BuGn\", ax=map_ax,\n",
      "            cbar_ax=bar_ax, cbar_kws={\"orientation\": \"horizontal\"})\n",
      "bar_ax.set(xlabel=\"flights\");"
     ],
     "language": "python",
     "metadata": {},
     "outputs": [],
     "prompt_number": null
    },
    {
     "cell_type": "raw",
     "metadata": {},
     "source": [
      ".. _clustermap:\n",
      "\n",
      "Visualizing clustered matrices with :func:`clustermap`\n",
      "------------------------------------------------------\n",
      "\n",
      "Beyond the :func:`heatmap`, you may also be curious how the rows and columns of your rectangular dataset are related to each other. Enter the :func:`clustermap`, which will reorganize the heatmap so that similar entries on the rows and columns are plotted closer together. This can help you discover structure in the dataset.\n",
      "\n",
      "Let's take a look at the flights data."
     ]
    },
    {
     "cell_type": "code",
     "collapsed": false,
     "input": [
      "cg = sns.clustermap(flights_rect)"
     ],
     "language": "python",
     "metadata": {},
     "outputs": [],
     "prompt_number": null
    },
    {
     "cell_type": "raw",
     "metadata": {},
     "source": [
      "By default, both the columns and the rows are clustered. For some datasets, though, you may want to preserve the original ordering:"
     ]
    },
    {
     "cell_type": "code",
     "collapsed": false,
     "input": [
      "cg = sns.clustermap(flights_rect, col_cluster=False)"
     ],
     "language": "python",
     "metadata": {},
     "outputs": [],
     "prompt_number": null
    },
    {
     "cell_type": "raw",
     "metadata": {},
     "source": [
      "This is a little skewed because the number of flights increase by year, so let's ``standard_scale`` the data (i.e. divide all the columns by the maximum so we can compare year-to-year on the same scale). We provide ``1`` to indicate that we want to standard scale the columns, but we could also scale the rows, as in the next example."
     ]
    },
    {
     "cell_type": "code",
     "collapsed": false,
     "input": [
      "cg = sns.clustermap(flights_rect, standard_scale=1)"
     ],
     "language": "python",
     "metadata": {},
     "outputs": [],
     "prompt_number": null
    },
    {
     "cell_type": "raw",
     "metadata": {},
     "source": [
      "You could also scale the rows by setting ``standard_scale=0``, to see how the different years cluster together if all the months are normalized across all years."
     ]
    },
    {
     "cell_type": "code",
     "collapsed": false,
     "input": [
      "cg = sns.clustermap(flights_rect, standard_scale=0)"
     ],
     "language": "python",
     "metadata": {},
     "outputs": [],
     "prompt_number": null
    },
    {
     "cell_type": "markdown",
     "metadata": {},
     "source": [
      "We could also normalize the rows by their $Z$-score, which subtracts the mean and divides by the standard deviation of each column, thus standardizing them to have 0 mean and a variance of 1. This is helpful for easily seeing which values are greater than the mean, and which are smaller."
     ]
    },
    {
     "cell_type": "code",
     "collapsed": false,
     "input": [
      "cg = sns.clustermap(flights_rect, z_score=1)"
     ],
     "language": "python",
     "metadata": {},
     "outputs": [],
     "prompt_number": null
    },
    {
     "cell_type": "raw",
     "metadata": {},
     "source": [
      "Next, you may want a quick way to look at how different years cluster together. Let's annotate the columns by coloring by increasing year."
     ]
    },
    {
     "cell_type": "code",
     "collapsed": false,
     "input": [
      "col_colors = sns.color_palette('Greens', n_colors=flights_rect.shape[1])\n",
      "cg = sns.clustermap(flights_rect, standard_scale=True, col_colors=col_colors)"
     ],
     "language": "python",
     "metadata": {},
     "outputs": [],
     "prompt_number": null
    },
    {
     "cell_type": "raw",
     "metadata": {},
     "source": [
      "Now we see that the first few years of the dataset, 1949, 1950, 1951 and 1953 all cluster together on the right, and we can see this easily because the lighter greens come together.\n",
      "\n",
      "We can also color the months by seasons, to see which seasons cluster together."
     ]
    },
    {
     "cell_type": "code",
     "collapsed": false,
     "input": [
      "col_colors = sns.color_palette('Greens', n_colors=flights_rect.shape[1])\n",
      "\n",
      "season_colors = {'Winter': sns.color_palette('PuBu', n_colors=3),\n",
      "                 'Spring': sns.color_palette('YlGn', n_colors=3),\n",
      "                 'Summer': sns.color_palette('YlOrBr', n_colors=3),\n",
      "                 'Fall': sns.color_palette('OrRd', n_colors=3)}\n",
      "\n",
      "month_colors = {'January': season_colors['Winter'][1],\n",
      "                'February': season_colors['Winter'][2],\n",
      "                'March': season_colors['Spring'][0],\n",
      "                'April': season_colors['Spring'][1],\n",
      "                'May': season_colors['Spring'][2],\n",
      "                'June': season_colors['Summer'][0],\n",
      "                'July': season_colors['Summer'][1],\n",
      "                'August': season_colors['Summer'][2],\n",
      "                'September': season_colors['Fall'][0],\n",
      "                'October': season_colors['Fall'][1],\n",
      "                'November': season_colors['Fall'][2],\n",
      "                'December': season_colors['Winter'][0]}\n",
      "row_colors = pd.Series(flights_rect.index).map(month_colors)\n",
      "\n",
      "cg = sns.clustermap(flights_rect, standard_scale=True, col_colors=col_colors, row_colors=row_colors)"
     ],
     "language": "python",
     "metadata": {},
     "outputs": [],
     "prompt_number": null
    },
    {
     "cell_type": "raw",
     "metadata": {},
     "source": [
      "Here, it's easy to see that the summer months all cluster together (along with September).\n",
      "\n",
      "If you like, you can also provide data in long-form, like many other seaborn functions expect. In this case, pass a dictionary of keyword arguments for ``DataFrame.pivot`` and the data will be reshaped behind the scenes."
     ]
    },
    {
     "cell_type": "code",
     "collapsed": false,
     "input": [
      "pivot_kws = dict(index=\"month\", columns=\"year\", values=\"passengers\")\n",
      "cg = sns.clustermap(flights, pivot_kws=pivot_kws, standard_scale=1)"
     ],
     "language": "python",
     "metadata": {},
     "outputs": [],
     "prompt_number": null
    },
    {
     "cell_type": "raw",
     "metadata": {},
     "source": [
      "The data given to cluster must have no ``NaN``s. However, you can mask the data you're plotting, so the visualization doesn't show the ``NaN``s."
     ]
    },
    {
     "cell_type": "code",
     "collapsed": false,
     "input": [
      "data2d = np.random.randn(32).reshape(4, 8)\n",
      "data2d[:2, :2] += 2\n",
      "mask = data2d > 1\n",
      "sns.clustermap(data2d, mask=mask)"
     ],
     "language": "python",
     "metadata": {},
     "outputs": [],
     "prompt_number": null
    },
    {
     "cell_type": "raw",
     "metadata": {},
     "source": [
      "The function returns an object of type :class:`ClusterGrid`, which exposes some methods that are useful for postprocessing. For example, if you want to save the figure, you should call the ``savefig`` method on this object rather than ``plt.savefig``, or else the dendrograms will be chopped of.\n",
      "\n",
      "You can also do useful things like access the mapping between row and column indices in the clustered matrix and those in the original data."
     ]
    },
    {
     "cell_type": "code",
     "collapsed": false,
     "input": [
      "cg.dendrogram_col.reordered_ind"
     ],
     "language": "python",
     "metadata": {},
     "outputs": [],
     "prompt_number": null
    }
   ],
   "metadata": {}
  }
 ]
}