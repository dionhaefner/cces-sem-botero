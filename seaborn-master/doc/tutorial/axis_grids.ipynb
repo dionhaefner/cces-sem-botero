{
 "metadata": {
  "kernelspec": {
   "display_name": "Python 2",
   "language": "python",
   "name": "python2"
  },
  "language_info": {
   "codemirror_mode": {
    "name": "ipython",
    "version": 2
   },
   "file_extension": ".py",
   "mimetype": "text/x-python",
   "name": "python",
   "nbconvert_exporter": "python",
   "pygments_lexer": "ipython2",
   "version": "2.7.9"
  },
  "name": "",
  "signature": "sha256:ffdf022dac85d5aaba2889be22ac97de8e6d2cd088de9d561bde24f4049cc126"
 },
 "nbformat": 3,
 "nbformat_minor": 0,
 "worksheets": [
  {
   "cells": [
    {
     "cell_type": "raw",
     "metadata": {},
     "source": [
      ".. _axis_grids:\n",
      "\n",
      ".. currentmodule:: seaborn"
     ]
    },
    {
     "cell_type": "heading",
     "level": 1,
     "metadata": {},
     "source": [
      "Plotting on data-aware grids"
     ]
    },
    {
     "cell_type": "raw",
     "metadata": {},
     "source": [
      "When exploring medium-dimensional data, a useful approach is to draw multiple instances of the same plot on different subsets of your dataset. This technique is sometimes called either \"lattice\", or `\"trellis\" <http://netlib.bell-labs.com/cm/ms/departments/sia/project/trellis>`_ plotting, and it is related to the idea of `\"small multiples\" <http://en.wikipedia.org/wiki/Small_multiple>`_. It allows a viewer to quickly extract a large amount of information about complex data. Matplotlib offers good support for making figures with multiple axes; seaborn builds on top of this to directly link the structure of the plot to the structure of your dataset.\n",
      "\n",
      "To use these features, your data has to be in a Pandas DataFrame and it must take the form of what Hadley Whickam calls `\"tidy\" data <http://vita.had.co.nz/papers/tidy-data.pdf>`_. In brief, that means your dataframe should be structured such that each column is a variable and each row is an observation.\n",
      "\n",
      "For advanced use, you can use the objects discussed in this part of the tutorial directly, which will provide maximum flexibility. Some seaborn functions (such as :func:`lmplot`, :func:`factorplot`, :func:`pairplot`, and :func:`jointplot`) also use them behind the scenes. Unlike other seaborn functions that are \"Axes-level\" and draw onto specific (possibly already-existing) matplotlib ``Axes`` without otherwise manipulating the figure, these higher-level functions create a figure when called and are generally more strict about how it gets set up. In some cases, arguments either to those functions or to the constructor of the class they rely on will provide a different interface attributes like the figure size, as in the case of :func:`lmplot` where you can set the height and aspect ratio for each facet rather than the overall size of the figure. Any function that uses one of these objects will always return it after plotting, though, and most of these objects have convenience methods for changing how the plot, often in a more abstract and easy way."
     ]
    },
    {
     "cell_type": "code",
     "collapsed": false,
     "input": [
      "%matplotlib inline"
     ],
     "language": "python",
     "metadata": {},
     "outputs": [],
     "prompt_number": null
    },
    {
     "cell_type": "code",
     "collapsed": false,
     "input": [
      "import numpy as np\n",
      "import pandas as pd\n",
      "import seaborn as sns\n",
      "from scipy import stats\n",
      "import matplotlib as mpl\n",
      "import matplotlib.pyplot as plt"
     ],
     "language": "python",
     "metadata": {},
     "outputs": [],
     "prompt_number": null
    },
    {
     "cell_type": "code",
     "collapsed": false,
     "input": [
      "sns.set(style=\"ticks\")\n",
      "np.random.seed(sum(map(ord, \"axis_grids\")))"
     ],
     "language": "python",
     "metadata": {},
     "outputs": [],
     "prompt_number": null
    },
    {
     "cell_type": "raw",
     "metadata": {},
     "source": [
      ".. _facet_grid:\n",
      "\n",
      "Subsetting data with :class:`FacetGrid`\n",
      "---------------------------------------\n",
      "\n",
      "The :class:`FacetGrid` class is useful when you want to visualize the distribution of a variable or the relationship between multiple variables separately within subsets of your dataset. A :class:`FacetGrid` can be drawn with up to three dimensions: ``row``, ``col``, and ``hue``. The first two have obvious correspondence with the resulting array of axes; think of the hue variable as a third dimension along a depth axis, where different levels are plotted with different colors.\n",
      "\n",
      "The class is used by initializing a :class:`FacetGrid` object with a dataframe and the names of the variables that will form the row, column, or hue dimensions of the grid. These variables should be categorical or discrete, and then the data at each level of the variable will be used for a facet along that axis. For example, say we wanted to examine differences between lunch and dinner in the ``tips`` dataset.\n",
      "\n",
      "Additionally, both :func:`lmplot` and :func:`factorplot` use this object internally, and they return the object when they are finsihed so that it can be used for further tweaking."
     ]
    },
    {
     "cell_type": "code",
     "collapsed": false,
     "input": [
      "tips = sns.load_dataset(\"tips\")"
     ],
     "language": "python",
     "metadata": {},
     "outputs": [],
     "prompt_number": null
    },
    {
     "cell_type": "code",
     "collapsed": false,
     "input": [
      "g = sns.FacetGrid(tips, col=\"time\")"
     ],
     "language": "python",
     "metadata": {},
     "outputs": [],
     "prompt_number": null
    },
    {
     "cell_type": "raw",
     "metadata": {},
     "source": [
      "Initializing the grid like this sets up the matplotlib figure and axes, but doesn't draw anything on them.\n",
      "\n",
      "The main approach for visualizing data on this grid is with the :meth:`FacetGrid.map` method. Provide it with a plotting function and the name(s) of variable(s) in the dataframe to plot. Let's look at the distribution of tips in each of these subsets, using a histogram."
     ]
    },
    {
     "cell_type": "code",
     "collapsed": false,
     "input": [
      "g = sns.FacetGrid(tips, col=\"time\")\n",
      "g.map(plt.hist, \"tip\");"
     ],
     "language": "python",
     "metadata": {},
     "outputs": [],
     "prompt_number": null
    },
    {
     "cell_type": "raw",
     "metadata": {},
     "source": [
      "This function will draw the figure and annotate the axes, hopefully producing a finished plot in one step. To make a relational plot, just pass multiple variable names. You can also provide keyword arguments, which will be passed to the plotting function:"
     ]
    },
    {
     "cell_type": "code",
     "collapsed": false,
     "input": [
      "g = sns.FacetGrid(tips, col=\"sex\", hue=\"smoker\")\n",
      "g.map(plt.scatter, \"total_bill\", \"tip\", alpha=.7)\n",
      "g.add_legend();"
     ],
     "language": "python",
     "metadata": {},
     "outputs": [],
     "prompt_number": null
    },
    {
     "cell_type": "raw",
     "metadata": {},
     "source": [
      "There are several options for controlling the look of the grid that can be passed to the class constructor."
     ]
    },
    {
     "cell_type": "code",
     "collapsed": false,
     "input": [
      "g = sns.FacetGrid(tips, row=\"smoker\", col=\"time\", margin_titles=True)\n",
      "g.map(sns.regplot, \"size\", \"total_bill\", color=\".3\", fit_reg=False, x_jitter=.1);"
     ],
     "language": "python",
     "metadata": {},
     "outputs": [],
     "prompt_number": null
    },
    {
     "cell_type": "raw",
     "metadata": {},
     "source": [
      "Note that ``margin_titles`` isn't formally supported by the matplotlib API, and may not work well in all cases. In particular, it currently can't be used with a legend that lies outside of the plot.\n",
      "\n",
      "The size of the figure is set by providing the height of the facets and the aspect ratio:"
     ]
    },
    {
     "cell_type": "code",
     "collapsed": false,
     "input": [
      "g = sns.FacetGrid(tips, col=\"day\", size=4, aspect=.5)\n",
      "g.map(sns.barplot, \"sex\", \"total_bill\");"
     ],
     "language": "python",
     "metadata": {},
     "outputs": [],
     "prompt_number": null
    },
    {
     "cell_type": "raw",
     "metadata": {},
     "source": [
      "With versions of matplotlib > 1.4, you can pass parameters to be used in the `gridspec` module. The can be used to draw attention to a particular facet by increasing its size. It's particularly useful when visualizing distributions of datasets with unequal numbers of groups in each facet."
     ]
    },
    {
     "cell_type": "code",
     "collapsed": false,
     "input": [
      "titanic = sns.load_dataset(\"titanic\")\n",
      "titanic = titanic.sort(\"deck\")\n",
      "g = sns.FacetGrid(titanic, col=\"class\", sharex=False,\n",
      "                  gridspec_kws={\"width_ratios\": [5, 3, 3]})\n",
      "g.map(sns.boxplot, \"deck\", \"age\")"
     ],
     "language": "python",
     "metadata": {},
     "outputs": []
    },
    {
     "cell_type": "raw",
     "metadata": {},
     "source": [
      "By default, the facets are plotted in the sorted order of the unique values for each variable, but you can specify an order:"
     ]
    },
    {
     "cell_type": "code",
     "collapsed": false,
     "input": [
      "days = [\"Thur\", \"Fri\", \"Sat\", \"Sun\"]\n",
      "g = sns.FacetGrid(tips, row=\"day\", hue=\"day\", palette=\"Greens_d\",\n",
      "                  size=1.7, aspect=4, hue_order=days, row_order=days)\n",
      "g.map(sns.distplot, \"total_bill\");"
     ],
     "language": "python",
     "metadata": {},
     "outputs": [],
     "prompt_number": null
    },
    {
     "cell_type": "raw",
     "metadata": {},
     "source": [
      "Any seaborn color palette (i.e., something that can be passed to :func:`color_palette()` can be provided. You can also use a dictionary that maps the names of values in the ``hue`` variable to valid matplotlib colors:"
     ]
    },
    {
     "cell_type": "code",
     "collapsed": false,
     "input": [
      "pal = dict(Lunch=\"seagreen\", Dinner=\"gray\")\n",
      "g = sns.FacetGrid(tips, hue=\"time\", palette=pal, size=5)\n",
      "g.map(plt.scatter, \"total_bill\", \"tip\", s=50, alpha=.7, linewidth=.5, edgecolor=\"white\")\n",
      "g.add_legend();"
     ],
     "language": "python",
     "metadata": {},
     "outputs": [],
     "prompt_number": null
    },
    {
     "cell_type": "raw",
     "metadata": {},
     "source": [
      "You can also let other aspects of the plot vary across levels of the hue variable, which can be helpful for making plots that will be more comprehensible when printed in black-and-white. To do this, pass a dictionary to ``hue_kws`` where keys are the names of plotting function keyword arguments and values are lists of keyword values, one for each level of the hue variable."
     ]
    },
    {
     "cell_type": "code",
     "collapsed": false,
     "input": [
      "g = sns.FacetGrid(tips, hue=\"sex\", palette=\"Set1\", size=5, hue_kws={\"marker\": [\"^\", \"v\"]})\n",
      "g.map(plt.scatter, \"total_bill\", \"tip\", s=100, linewidth=.5, edgecolor=\"white\")\n",
      "g.add_legend();"
     ],
     "language": "python",
     "metadata": {},
     "outputs": [],
     "prompt_number": null
    },
    {
     "cell_type": "raw",
     "metadata": {},
     "source": [
      "If you have many levels of one variable, you can plot it along the columns but \"wrap\" them so that they span multiple rows. When doing this, you cannot use a ``row`` variable."
     ]
    },
    {
     "cell_type": "code",
     "collapsed": false,
     "input": [
      "attend = sns.load_dataset(\"attention\").query(\"subject <= 12\")\n",
      "g = sns.FacetGrid(attend, col=\"subject\", col_wrap=4, size=2, ylim=(0, 10))\n",
      "g.map(sns.pointplot, \"solutions\", \"score\", color=\".3\", ci=None);"
     ],
     "language": "python",
     "metadata": {},
     "outputs": [],
     "prompt_number": null
    },
    {
     "cell_type": "raw",
     "metadata": {},
     "source": [
      "Once you've drawn a plot using :meth:`FacetGrid.map` (which can be called multiple times), you may want to adjust some aspects of the plot. There are also a number of methods on the :class:`FacetGrid` object for manipulating the figure at a higher level of abstraction. The most general is :meth:`FacetGrid.set`, and there are other more specialized methods like :meth:`FacetGrid.set_axis_labels`. For example:"
     ]
    },
    {
     "cell_type": "code",
     "collapsed": false,
     "input": [
      "with sns.axes_style(\"white\"):\n",
      "    g = sns.FacetGrid(tips, row=\"sex\", col=\"smoker\", margin_titles=True, size=2.5)\n",
      "g.map(plt.scatter, \"total_bill\", \"tip\", color=\"#334488\", edgecolor=\"white\", lw=.5);\n",
      "g.set_axis_labels(\"Total bill (US Dollars)\", \"Tip\");\n",
      "g.set(xticks=[10, 30, 50], yticks=[2, 6, 10]);\n",
      "g.fig.subplots_adjust(wspace=.02, hspace=.02);"
     ],
     "language": "python",
     "metadata": {},
     "outputs": [],
     "prompt_number": null
    },
    {
     "cell_type": "raw",
     "metadata": {},
     "source": [
      "For even more customization, you can  work directly with the underling matplotlib ``Figure`` and ``Axes`` objects, which are stored as member attributes at ``fig`` and ``axes`` (a two-dimensional array), respectively."
     ]
    },
    {
     "cell_type": "code",
     "collapsed": false,
     "input": [
      "g = sns.FacetGrid(tips, col=\"smoker\", margin_titles=True, size=4)\n",
      "g.map(plt.scatter, \"total_bill\", \"tip\", color=\"#338844\", edgecolor=\"white\", s=50, lw=1)\n",
      "for ax in g.axes.flat:\n",
      "    ax.plot((0, 50), (0, .2 * 50), c=\".2\", ls=\"--\")\n",
      "g.set(xlim=(0, 60), ylim=(0, 14));"
     ],
     "language": "python",
     "metadata": {},
     "outputs": [],
     "prompt_number": null
    },
    {
     "cell_type": "raw",
     "metadata": {},
     "source": [
      ".. _custom_map_func:\n",
      "\n",
      "Mapping custom functions onto the grid\n",
      "~~~~~~~~~~~~~~~~~~~~~~~~~~~~~~~~~~~~~~\n",
      "\n",
      "You're not limited to existing matplotlib and seaborn functions when using :class:`FacetGrid`. However, to work properly, any function you use must follow a few rules:\n",
      "\n",
      "1. It must plot onto the \"currently active\" matplotlib ``Axes``. This will be true of functions in the ``matplotlib.pyplot`` namespace, and you can call ``plt.gca`` to get a reference to the current ``Axes`` if you want to work directly with its methods.\n",
      "2. It must accept the data that it plots in positional arguments. Internally, :class:`FacetGrid` will pass a ``Series`` of data for each of the named positional arguments passed to :meth:`FacetGrid.map`.\n",
      "3. It must be able to accept ``color`` and ``label`` keyword arguments, and, ideally, it will do something useful with them. In most cases, it's easiest to catch a generic dictionary of ``**kwargs`` and pass it along to the underlying plotting function.\n",
      "\n",
      "Let's look at minimal example of a function you can plot with. This function will just take a single vector of data for each facet:"
     ]
    },
    {
     "cell_type": "code",
     "collapsed": false,
     "input": [
      "def quantile_plot(x, **kwargs):\n",
      "    qntls, xr = stats.probplot(x, fit=False)\n",
      "    plt.scatter(xr, qntls, **kwargs)\n",
      "    \n",
      "g = sns.FacetGrid(tips, col=\"sex\", size=4)\n",
      "g.map(quantile_plot, \"total_bill\");"
     ],
     "language": "python",
     "metadata": {},
     "outputs": [],
     "prompt_number": null
    },
    {
     "cell_type": "raw",
     "metadata": {},
     "source": [
      "If we want to make a bivariate plot, you should write the function so that it accepts the x-axis variable first and the y-axis variable second:"
     ]
    },
    {
     "cell_type": "code",
     "collapsed": false,
     "input": [
      "def qqplot(x, y, **kwargs):\n",
      "    _, xr = stats.probplot(x, fit=False)\n",
      "    _, yr = stats.probplot(y, fit=False)\n",
      "    plt.scatter(xr, yr, **kwargs)\n",
      "    \n",
      "g = sns.FacetGrid(tips, col=\"smoker\", size=4)\n",
      "g.map(qqplot, \"total_bill\", \"tip\");"
     ],
     "language": "python",
     "metadata": {},
     "outputs": [],
     "prompt_number": null
    },
    {
     "cell_type": "raw",
     "metadata": {},
     "source": [
      "Because ``plt.scatter`` accepts ``color`` and ``label`` keyword arguments and does the right thing with them, we can add a hue facet without any difficulty:"
     ]
    },
    {
     "cell_type": "code",
     "collapsed": false,
     "input": [
      "g = sns.FacetGrid(tips, hue=\"time\", col=\"sex\", size=4)\n",
      "g.map(qqplot, \"total_bill\", \"tip\")\n",
      "g.add_legend();"
     ],
     "language": "python",
     "metadata": {},
     "outputs": [],
     "prompt_number": null
    },
    {
     "cell_type": "raw",
     "metadata": {},
     "source": [
      "This approach also lets us use additional aesthetics to distinguish the levels of the hue variable, along with keyword arguments that won't be depdendent on the faceting variables:"
     ]
    },
    {
     "cell_type": "code",
     "collapsed": false,
     "input": [
      "g = sns.FacetGrid(tips, hue=\"time\", col=\"sex\", size=4,\n",
      "                  hue_kws={\"marker\": [\"s\", \"D\"]})\n",
      "g.map(qqplot, \"total_bill\", \"tip\", s=40, edgecolor=\"w\")\n",
      "g.add_legend();"
     ],
     "language": "python",
     "metadata": {},
     "outputs": [],
     "prompt_number": null
    },
    {
     "cell_type": "raw",
     "metadata": {},
     "source": [
      "Sometimes, though, you'll want to map a function that doesn't work the way you expect with the ``color`` and ``label`` keyword arguments. In this case, you'll want to explictly catch them and handle them in the logic of your custom function. For example, this approach will allow use to map ``plt.hexbin``, which otherwise does not play well with the :class:`FacetGrid` API:"
     ]
    },
    {
     "cell_type": "code",
     "collapsed": false,
     "input": [
      "def hexbin(x, y, color, **kwargs):\n",
      "    cmap = sns.light_palette(color, as_cmap=True)\n",
      "    plt.hexbin(x, y, gridsize=15, cmap=cmap, **kwargs)\n",
      "\n",
      "g = sns.FacetGrid(tips, hue=\"time\", col=\"time\", size=4)\n",
      "g.map(hexbin, \"total_bill\", \"tip\", extent=[0, 50, 0, 10]);"
     ],
     "language": "python",
     "metadata": {},
     "outputs": [],
     "prompt_number": null
    },
    {
     "cell_type": "raw",
     "metadata": {},
     "source": [
      ".. _pair_grid:\n",
      "\n",
      "Plotting pairwise relationships with :class:`PairGrid` and :func:`pairplot`\n",
      "---------------------------------------------------------------------------\n",
      "\n",
      ":class:`PairGrid` also allows you to quickly draw a grid of small subplots using the same plot type to visualize data in each. In a :class:`PairGrid`, each row and column is assigned to a different variable, so the resulting plot shows each pairwise relationship in the dataset. This style of plot is sometimes called a \"scatterplot matrix\", as this is the most common way to show each relationship, but :class:`PairGrid` is not limited to scatterplots.\n",
      "\n",
      "It's important to understand the differences between a :class:`FacetGrid` and a :class:`PairGrid`. In the former, each facet shows the same relationship conditioned on different levels of other variables. In the latter, each plot shows a different relationship (although the upper and lower triangles will have mirrored plots). Using :class:`PairGrid` can give you a very quick, very high-level summary of interesting relationships in your dataset.\n",
      "\n",
      "The basic usage of the class is very similar to :class:`FacetGrid`. First you initialize the grid, then you pass plotting function to a ``map`` method and it will be called on each subplot. There is also a companion function, :func:`pairplot` (see :ref:`below <pairplot>`), that trades off some flexibility for faster plotting.\n"
     ]
    },
    {
     "cell_type": "code",
     "collapsed": false,
     "input": [
      "iris = sns.load_dataset(\"iris\")\n",
      "g = sns.PairGrid(iris)\n",
      "g.map(plt.scatter)"
     ],
     "language": "python",
     "metadata": {},
     "outputs": [],
     "prompt_number": null
    },
    {
     "cell_type": "raw",
     "metadata": {},
     "source": [
      "It's possible to plot a different function on the diagonal to show the univariate distribution of the variable in each column. Note that the axis ticks won't correspond to the count or density axis of this plot, though."
     ]
    },
    {
     "cell_type": "code",
     "collapsed": false,
     "input": [
      "g = sns.PairGrid(iris)\n",
      "g.map_diag(plt.hist)\n",
      "g.map_offdiag(plt.scatter)"
     ],
     "language": "python",
     "metadata": {},
     "outputs": [],
     "prompt_number": null
    },
    {
     "cell_type": "raw",
     "metadata": {},
     "source": [
      "A very common way to use this plot colors the observations by a separate categorical variable. For example, the iris dataset has four measurements for each of three different species of iris flowers so you can see how they differ."
     ]
    },
    {
     "cell_type": "code",
     "collapsed": false,
     "input": [
      "g = sns.PairGrid(iris, hue=\"species\")\n",
      "g.map_diag(plt.hist)\n",
      "g.map_offdiag(plt.scatter)\n",
      "g.add_legend()"
     ],
     "language": "python",
     "metadata": {},
     "outputs": [],
     "prompt_number": null
    },
    {
     "cell_type": "raw",
     "metadata": {},
     "source": [
      "By default every numeric column in the dataset is used, but you can focus on particular relationships if you want."
     ]
    },
    {
     "cell_type": "code",
     "collapsed": false,
     "input": [
      "g = sns.PairGrid(iris, vars=[\"sepal_length\", \"sepal_width\"], hue=\"species\")\n",
      "g.map(plt.scatter)"
     ],
     "language": "python",
     "metadata": {},
     "outputs": [],
     "prompt_number": null
    },
    {
     "cell_type": "raw",
     "metadata": {},
     "source": [
      "It's also possible to use a different function in the upper and lower triangles to emphasize different aspects of the relationship."
     ]
    },
    {
     "cell_type": "code",
     "collapsed": false,
     "input": [
      "g = sns.PairGrid(iris)\n",
      "g.map_upper(plt.scatter)\n",
      "g.map_lower(sns.kdeplot, cmap=\"Blues_d\")\n",
      "g.map_diag(sns.kdeplot, lw=3, legend=False)"
     ],
     "language": "python",
     "metadata": {},
     "outputs": [],
     "prompt_number": null
    },
    {
     "cell_type": "raw",
     "metadata": {},
     "source": [
      "The square grid with identity relationships on the diagonal is actually just a special case, and you can plot with different variables in the rows and columns."
     ]
    },
    {
     "cell_type": "code",
     "collapsed": false,
     "input": [
      "g = sns.PairGrid(tips, y_vars=[\"tip\"], x_vars=[\"total_bill\", \"size\"], size=4)\n",
      "g.map(sns.regplot, color=\".3\")\n",
      "g.set(ylim=(-1, 11), yticks=[0, 5, 10]);"
     ],
     "language": "python",
     "metadata": {},
     "outputs": [],
     "prompt_number": null
    },
    {
     "cell_type": "raw",
     "metadata": {},
     "source": [
      "Of course, the aesthetic attributes are configurable. For instance, you can use a different palette (say, to show an ordering of the ``hue`` variable) and pass keyword arguments into the plotting functions."
     ]
    },
    {
     "cell_type": "code",
     "collapsed": false,
     "input": [
      "g = sns.PairGrid(tips, hue=\"size\", palette=\"GnBu_d\")\n",
      "g.map(plt.scatter, s=50, edgecolor=\"white\")\n",
      "g.add_legend()"
     ],
     "language": "python",
     "metadata": {},
     "outputs": [],
     "prompt_number": null
    },
    {
     "cell_type": "raw",
     "metadata": {},
     "source": [
      ".. _pairplot:\n",
      "\n",
      ":class:`PairGrid` is flexible, but to take a quick look at a dataset, it can be easier to use :func:`pairplot`. This function uses scatterplots and histograms by default, although a few other kinds will be added (currently, you can also plot regression plots on the off-diagonals and KDEs on the diagonal)."
     ]
    },
    {
     "cell_type": "code",
     "collapsed": false,
     "input": [
      "sns.pairplot(iris, hue=\"species\", size=2.5);"
     ],
     "language": "python",
     "metadata": {},
     "outputs": [],
     "prompt_number": null
    },
    {
     "cell_type": "raw",
     "metadata": {},
     "source": [
      "You can also control the aesthetics of the plot with keyword arguments, and it returns the :class:`PairGrid` instance for further tweaking."
     ]
    },
    {
     "cell_type": "code",
     "collapsed": false,
     "input": [
      "g = sns.pairplot(iris, hue=\"species\", palette=\"Set2\", diag_kind=\"kde\", size=2.5)"
     ],
     "language": "python",
     "metadata": {},
     "outputs": [],
     "prompt_number": null
    },
    {
     "cell_type": "raw",
     "metadata": {},
     "source": [
      ".. _joint_grid:\n",
      "\n",
      "Plotting bivariate data with :class:`JointGrid` and :func:`jointplot`\n",
      "---------------------------------------------------------------------\n",
      "\n",
      "The :class:`JointGrid` can be used when you want to plot the relationship between or joint distribution of two variables along with the marginal distribution of each variable. :class:`JointGrid` is supplemented by the :func:`jointplot` function, which will likely suffice for many exploratory cases (see :ref:`below <jointplot>`). It can be helpful to know how to the :class:`JointGrid` class works, though, to have the best understanding of how to use these two tools.\n",
      "\n",
      "Like :class:`FacetGrid`, initializing the object sets up the axes but does not plot anything:"
     ]
    },
    {
     "cell_type": "code",
     "collapsed": false,
     "input": [
      "g = sns.JointGrid(\"total_bill\", \"tip\", tips)"
     ],
     "language": "python",
     "metadata": {},
     "outputs": [],
     "prompt_number": null
    },
    {
     "cell_type": "raw",
     "metadata": {},
     "source": [
      "The easiest way to use :class:`JointPlot` is to call :meth:`JointPlot.plot` with three arguments: a function to draw a bivariate plot, a function to draw a univariate plot, and a function to calculate a statistic that summarizes the relationship."
     ]
    },
    {
     "cell_type": "code",
     "collapsed": false,
     "input": [
      "g = sns.JointGrid(\"total_bill\", \"tip\", tips)\n",
      "g.plot(sns.regplot, sns.distplot, stats.pearsonr);"
     ],
     "language": "python",
     "metadata": {},
     "outputs": [],
     "prompt_number": null
    },
    {
     "cell_type": "raw",
     "metadata": {},
     "source": [
      "For more flexibility, you can use the separate methods :meth:`JointGrid.plot_joint`, :meth:`JointGrid.plot_marginals`, and :meth:`JointGrid.annotate`:"
     ]
    },
    {
     "cell_type": "code",
     "collapsed": false,
     "input": [
      "g = sns.JointGrid(\"total_bill\", \"tip\", tips)\n",
      "g.plot_marginals(sns.distplot, kde=False, color=\".5\")\n",
      "g.plot_joint(plt.scatter, color=\".5\", edgecolor=\"white\")\n",
      "g.annotate(stats.spearmanr, template=\"{stat} = {val:.3f} (p = {p:.3g})\");"
     ],
     "language": "python",
     "metadata": {},
     "outputs": [],
     "prompt_number": null
    },
    {
     "cell_type": "raw",
     "metadata": {},
     "source": [
      "To control the presentation of the grid, use the ``size`` and ``ratio`` arguments. These control the size of the full figure (which is always square) and the ratio of the joint axes height to the marginal axes height:"
     ]
    },
    {
     "cell_type": "code",
     "collapsed": false,
     "input": [
      "g = sns.JointGrid(\"total_bill\", \"tip\", tips, size=4, ratio=30)\n",
      "color = \"#228833\"\n",
      "g.plot_marginals(sns.rugplot, color=color, alpha=.7, lw=1)\n",
      "g.plot_joint(plt.scatter, color=color, alpha=.7, marker=\".\");"
     ],
     "language": "python",
     "metadata": {},
     "outputs": [],
     "prompt_number": null
    },
    {
     "cell_type": "raw",
     "metadata": {},
     "source": [
      "The ``space`` keyword argument controls the amount of padding between the axes with the joint plot and the two marginal axes:"
     ]
    },
    {
     "cell_type": "code",
     "collapsed": false,
     "input": [
      "g = sns.JointGrid(\"total_bill\", \"tip\", tips, space=0)\n",
      "g.plot_marginals(sns.kdeplot, shade=True)\n",
      "g.plot_joint(sns.kdeplot, shade=True, cmap=\"PuBu\", n_levels=40);"
     ],
     "language": "python",
     "metadata": {},
     "outputs": [],
     "prompt_number": null
    },
    {
     "cell_type": "raw",
     "metadata": {},
     "source": [
      ".. _jointplot:\n",
      "\n",
      "The :func:`jointplot` function can draw a nice-looking plot with a single line of code:"
     ]
    },
    {
     "cell_type": "code",
     "collapsed": false,
     "input": [
      "sns.jointplot(\"total_bill\", \"tip\", tips);"
     ],
     "language": "python",
     "metadata": {},
     "outputs": [],
     "prompt_number": null
    },
    {
     "cell_type": "raw",
     "metadata": {},
     "source": [
      "It can draw several different kinds of plots, with good defaults chosen for each:"
     ]
    },
    {
     "cell_type": "code",
     "collapsed": false,
     "input": [
      "sns.jointplot(\"total_bill\", \"tip\", tips, kind=\"hex\", color=\"#8855AA\");"
     ],
     "language": "python",
     "metadata": {},
     "outputs": [],
     "prompt_number": null
    },
    {
     "cell_type": "raw",
     "metadata": {},
     "source": [
      "In many cases, :func:`jointplot` should be sufficient for exploratory graphics, but it may easier to use :class:`JointGrid` directly when you need more flexibility than is offered by the canned styles of :func:`jointplot`."
     ]
    }
   ],
   "metadata": {}
  }
 ]
}